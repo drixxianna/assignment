{
 "cells": [
  {
   "cell_type": "markdown",
   "id": "7b390dbe-ca1b-47ab-bf36-e6fa55b62513",
   "metadata": {},
   "source": [
    "# Data Science Tools and Ecosystem"
   ]
  },
  {
   "cell_type": "markdown",
   "id": "7879ffb2-863f-44b6-80cb-96ac044ba659",
   "metadata": {},
   "source": [
    "In this notebook, Data Science Tools and Ecosystem are summarized."
   ]
  },
  {
   "cell_type": "markdown",
   "id": "14c50ca7-9b18-4078-9960-63b0cd12b9bb",
   "metadata": {
    "tags": []
   },
   "source": [
    "__Objectives:__\n",
    "\n",
    "* List popular languages for Data Science\n",
    "* List commonly used data science libraries\n",
    "* Table of Data Science tools"
   ]
  },
  {
   "cell_type": "markdown",
   "id": "db90aba3-2c22-4bbe-8499-93a007411ccd",
   "metadata": {},
   "source": [
    "Some of the popular languages that Data Scientists use are:\n",
    "\n",
    "    1. R\n",
    "    2. SQL\n",
    "    3. Python"
   ]
  },
  {
   "cell_type": "markdown",
   "id": "fe192ada-2dcc-451c-b5d3-7b42afe78fe0",
   "metadata": {
    "tags": []
   },
   "source": [
    "Some of the commonly used libraries used by Data Scientists include:\n",
    "\n",
    "    1. SciPy\n",
    "    2. NumPy\n",
    "    3. Pandas"
   ]
  },
  {
   "cell_type": "markdown",
   "id": "37c693ed-15e3-4d00-9050-0819b17646b9",
   "metadata": {
    "tags": []
   },
   "source": [
    "| Data Science Tools |\n",
    "----------------------\n",
    "| RStudio |\n",
    "| TensorFlow |\n",
    "| Apache Spark |"
   ]
  },
  {
   "cell_type": "markdown",
   "id": "2f66685a-41eb-4bc5-8aae-14ff0960f670",
   "metadata": {},
   "source": [
    "### Below are a few examples of evaluating arithmetic expressions in Python"
   ]
  },
  {
   "cell_type": "code",
   "execution_count": 7,
   "id": "3598e8e2-d4ff-46e9-bf86-dda00d690874",
   "metadata": {
    "tags": []
   },
   "outputs": [
    {
     "data": {
      "text/plain": [
       "17"
      ]
     },
     "execution_count": 7,
     "metadata": {},
     "output_type": "execute_result"
    }
   ],
   "source": [
    "#This a simple arithmetic expression to mutiply then add integers\n",
    "\n",
    "(3*4)+5"
   ]
  },
  {
   "cell_type": "code",
   "execution_count": 8,
   "id": "bfb7cf39-045f-4cca-a34e-883f4cc6d4dd",
   "metadata": {
    "tags": []
   },
   "outputs": [
    {
     "data": {
      "text/plain": [
       "3.3333333333333335"
      ]
     },
     "execution_count": 8,
     "metadata": {},
     "output_type": "execute_result"
    }
   ],
   "source": [
    "#This will convert 200 minutes to hours by dividing by 60\n",
    "200/60"
   ]
  },
  {
   "cell_type": "markdown",
   "id": "bc0457eb-9360-4b7b-83db-202d4573bbf6",
   "metadata": {},
   "source": [
    "## Author\n",
    "Rizianamen Wendria Agbanglo"
   ]
  },
  {
   "cell_type": "code",
   "execution_count": null,
   "id": "afad073e-87a6-41e2-8324-d515bc120f13",
   "metadata": {},
   "outputs": [],
   "source": []
  }
 ],
 "metadata": {
  "kernelspec": {
   "display_name": "Python",
   "language": "python",
   "name": "conda-env-python-py"
  },
  "language_info": {
   "codemirror_mode": {
    "name": "ipython",
    "version": 3
   },
   "file_extension": ".py",
   "mimetype": "text/x-python",
   "name": "python",
   "nbconvert_exporter": "python",
   "pygments_lexer": "ipython3",
   "version": "3.7.12"
  }
 },
 "nbformat": 4,
 "nbformat_minor": 5
}
